{
 "cells": [
  {
   "cell_type": "code",
   "execution_count": 1,
   "metadata": {},
   "outputs": [
    {
     "name": "stdout",
     "output_type": "stream",
     "text": [
      "   CreditScore  Age  Tenure        Balance  NumberOfProducts  HasCrCard  \\\n",
      "0          402   55      10   33426.402294                 4          0   \n",
      "1          735   75       9  131056.481938                 7          1   \n",
      "2          570   29       1  198348.523434                 4          0   \n",
      "3          406   40       1   14534.174322                 4          0   \n",
      "4          371   70       0   15415.602390                 0          1   \n",
      "\n",
      "   IsActiveMember  EstimatedSalary  Exited  \n",
      "0               0     38102.089797       0  \n",
      "1               0     99561.108895       0  \n",
      "2               1     59819.129595       0  \n",
      "3               1     62394.020827       0  \n",
      "4               1     29219.074733       0  \n"
     ]
    }
   ],
   "source": [
    "import numpy as np\n",
    "import pandas as pd\n",
    "\n",
    "# Set the number of samples\n",
    "num_samples = 1000\n",
    "\n",
    "# Generate random data for each attribute\n",
    "np.random.seed(42)  # For reproducibility\n",
    "\n",
    "# CreditScore between 300 and 850\n",
    "credit_score = np.random.randint(300, 851, num_samples)\n",
    "\n",
    "# Age between 18 and 80\n",
    "age = np.random.randint(18, 81, num_samples)\n",
    "\n",
    "# Tenure between 0 and 10 years\n",
    "tenure = np.random.randint(0, 11, num_samples)\n",
    "\n",
    "# Balance (assuming some customers might have zero balance, and max balance can be up to $200,000)\n",
    "balance = np.random.uniform(0, 200000, num_samples)\n",
    "\n",
    "# NumberOfProducts between 1 and 8\n",
    "num_products = np.random.randint(0, 8, num_samples)\n",
    "\n",
    "# HasCrCard (binary 0 or 1)\n",
    "has_cr_card = np.random.randint(0, 2, num_samples)\n",
    "\n",
    "# isActiveMember (binary 0 or 1)\n",
    "is_active_member = np.random.randint(0, 2, num_samples)\n",
    "\n",
    "# Estimated Salary (assuming salary range between $20,000 and $150,000)\n",
    "estimated_salary = np.random.uniform(20000, 150000, num_samples)\n",
    "\n",
    "# Exited (binary 0 or 1) - whether the customer exited the bank\n",
    "exited = np.random.randint(0, 2, num_samples)\n",
    "\n",
    "# Create a DataFrame\n",
    "df = pd.DataFrame({\n",
    "    'CreditScore': credit_score,\n",
    "    'Age': age,\n",
    "    'Tenure': tenure,\n",
    "    'Balance': balance,\n",
    "    'NumberOfProducts': num_products,\n",
    "    'HasCrCard': has_cr_card,\n",
    "    'IsActiveMember': is_active_member,\n",
    "    'EstimatedSalary': estimated_salary,\n",
    "    'Exited': exited\n",
    "})\n",
    "\n",
    "# Display the first few rows of the dataset\n",
    "print(df.head())\n",
    "\n",
    "# Optionally, save the dataset to a CSV file\n",
    "df.to_csv('customer_data.csv', index=False)\n"
   ]
  },
  {
   "cell_type": "code",
   "execution_count": null,
   "metadata": {},
   "outputs": [],
   "source": []
  }
 ],
 "metadata": {
  "kernelspec": {
   "display_name": "Python 3",
   "language": "python",
   "name": "python3"
  },
  "language_info": {
   "codemirror_mode": {
    "name": "ipython",
    "version": 3
   },
   "file_extension": ".py",
   "mimetype": "text/x-python",
   "name": "python",
   "nbconvert_exporter": "python",
   "pygments_lexer": "ipython3",
   "version": "3.12.2"
  }
 },
 "nbformat": 4,
 "nbformat_minor": 2
}
